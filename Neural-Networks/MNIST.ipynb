{
 "cells": [
  {
   "cell_type": "code",
   "execution_count": 12,
   "metadata": {},
   "outputs": [],
   "source": [
    "# Import Python libraries\n",
    "import numpy as np    # numpy is the fundamental package for scientific computing with Python, such linear algebra, array...\n",
    "import matplotlib.pyplot as plt      # matplotlib is a Python 2D plotting library which produces publication quality figures."
   ]
  },
  {
   "cell_type": "markdown",
   "metadata": {},
   "source": [
    "## Logistic Regression Model \n"
   ]
  },
  {
   "cell_type": "code",
   "execution_count": 23,
   "metadata": {},
   "outputs": [],
   "source": [
    "class LogisticRegression:\n",
    "    \"\"\"\n",
    "    This lab implements a Logistic Regression Classifier.\n",
    "    \"\"\"\n",
    "    \n",
    "    def __init__(self, input_dim, hidden_dim, output_dim):\n",
    "        \"\"\"\n",
    "        Initializes the parameters of the logistic regression classifer to \n",
    "        random values.\n",
    "        \n",
    "        args:\n",
    "            input_dim: Number of dimensions of the input data\n",
    "            hidden_dim: Number of nodes in the hidden layer\n",
    "            output_dim: Number of classes\n",
    "        \"\"\"\n",
    "        self.W1 = np.random.randn(input_dim, hidden_dim) / np.sqrt(input_dim)       \n",
    "        self.W2 = np.random.randn(hidden_dim, output_dim) / np.sqrt(hidden_dim)\n",
    "        self.bias1 = np.zeros((1, hidden_dim))\n",
    "        self.bias2 = np.zeros((1, output_dim))\n",
    "        \n",
    "    #--------------------------------------------------------------------------\n",
    "    \n",
    "    def compute_cost(self,X, y):\n",
    "        \"\"\"\n",
    "        Computes the total cost on the dataset.\n",
    "        \n",
    "        args:\n",
    "            X: Data array\n",
    "            y: Labels corresponding to input data\n",
    "        \n",
    "        returns:\n",
    "            cost: average cost per data sample\n",
    "        \"\"\"\n",
    "        num_examples = np.shape(X)[0]\n",
    "        z2 = np.dot(X,self.W1) + self.bias1 #z2 1000X4\n",
    "        a2 = np.tanh(z2) #1000X4\n",
    "        z3 = np.dot(a2,self.W2) + self.bias2 #z3 1000X2\n",
    "        exp_z3 = np.exp(z3) #1000X2\n",
    "        softmax_scores = exp_z3 / (exp_z3 + 1) #a3 1000X2\n",
    "        \n",
    "        one_hot_y = np.zeros((num_examples,np.max(y)+1))\n",
    "        logloss = np.zeros((num_examples,))        \n",
    "        for i in range(np.shape(X)[0]):\n",
    "            one_hot_y[i,y[i]] = 1\n",
    "            logloss[i] = -np.sum(np.log(softmax_scores[i,:]) * one_hot_y[i,:])\n",
    "        data_loss = np.sum(logloss)\n",
    "        return 1./num_examples * data_loss\n",
    "\n",
    "    \n",
    "    #--------------------------------------------------------------------------\n",
    " \n",
    "    def predict(self,X):\n",
    "        \"\"\"\n",
    "        Makes a prediction based on current model parameters.\n",
    "        \n",
    "        args:\n",
    "            X: Data array\n",
    "            \n",
    "        returns:\n",
    "            predictions: array of predicted labels\n",
    "        \"\"\"\n",
    "        z2 = np.dot(X,self.W1) + self.bias1 #h ---> z2\n",
    "        a2 = np.tanh(z2)\n",
    "#         exp_h = np.exp(h)\n",
    "#         hidden_scores = exp_h / (exp_h + 1) ----> a2\n",
    "        z3 = np.dot(a2,self.W2) + self.bias2\n",
    "        exp_z3 = np.exp(z3)\n",
    "        softmax_scores = exp_z3 / (exp_z3 + 1)\n",
    "        predictions = np.argmax(softmax_scores, axis = 1)\n",
    "        return predictions\n",
    "        \n",
    "    #--------------------------------------------------------------------------\n",
    "    # TODO: implement logistic regression using gradient descent \n",
    "    #--------------------------------------------------------------------------\n",
    "    def fit(self,X,y,num_epochs,alpha=0.01):\n",
    "    \n",
    "        #Learns model parameters to fit the data.\n",
    "#         X = a1 1000X2\n",
    "#         W1 = 2X4\n",
    "#         W2 = 4X2\n",
    "\n",
    "        for epoch in range(0, num_epochs):\n",
    "\n",
    "            # Forward propagation\n",
    "            z2 = np.dot(X,self.W1) + self.bias1 #z2 1000X4\n",
    "            a2 = np.tanh(z2) #1000X4\n",
    "            z3 = np.dot(a2,self.W2) + self.bias2 #z3 1000X2\n",
    "            exp_z3 = np.exp(z3) #1000X2\n",
    "            softmax_scores = exp_z3 / (exp_z3 + 1) #a3 1000X2\n",
    "        \n",
    "            # Backpropagation\n",
    "            delta3 = np.zeros_like(softmax_scores) #1000X2\n",
    "            one_hot_y = np.zeros_like(softmax_scores) #1000X2\n",
    "            for i in range(X.shape[0]):\n",
    "                one_hot_y[i,y[i]] = 1\n",
    "            delta3 = softmax_scores - one_hot_y #delta3 1000X2\n",
    "            g_dash = 1-(np.power(a2,2))\n",
    "            delta2 = np.multiply(np.dot(delta3,self.W2.T),g_dash) #delta2\n",
    "            \n",
    "            # Compute gradients of model parameters\n",
    "            dW2 = np.dot(a2.T,delta3)\n",
    "            dW1 = np.dot(X.T,delta2)\n",
    "            dbias2 = np.sum(delta3, axis=0)\n",
    "            dbias1 = np.sum(delta2, axis=0)\n",
    "\n",
    "#             # add L2 regularization\n",
    "#             dW2 += L2_reg * self.W2\n",
    "#             dW1 += L2_reg * self.W1\n",
    "            \n",
    "            # Gradient descent parameter update\n",
    "            self.W2 -= alpha * dW2\n",
    "            self.bias2 -= alpha * dbias2  \n",
    "            self.W1 -= alpha * dW1\n",
    "            self.bias1 -= alpha * dbias1   \n",
    "        return 0"
   ]
  },
  {
   "cell_type": "code",
   "execution_count": 24,
   "metadata": {},
   "outputs": [],
   "source": [
    "def plot_decision_boundary(model, X, y):\n",
    "    \"\"\" \n",
    "    Function to print the decision boundary given by model.\n",
    "    \n",
    "    args:\n",
    "        model: model, whose parameters are used to plot the decision boundary.\n",
    "        X: input data\n",
    "        y: input labels\n",
    "    \"\"\"\n",
    "    \n",
    "    x1_array, x2_array = np.meshgrid(np.arange(-4, 4, 0.01), np.arange(-4, 4, 0.01))\n",
    "    grid_coordinates = np.c_[x1_array.ravel(), x2_array.ravel()]\n",
    "    Z = model.predict(grid_coordinates)\n",
    "    Z = Z.reshape(x1_array.shape)\n",
    "    plt.contourf(x1_array, x2_array, Z, cmap=plt.cm.bwr)\n",
    "    plt.scatter(X[:, 0], X[:, 1], c=y, cmap=plt.cm.bwr)\n",
    "    plt.show()"
   ]
  },
  {
   "cell_type": "markdown",
   "metadata": {},
   "source": [
    "## Data Analysis Basics"
   ]
  },
  {
   "cell_type": "code",
   "execution_count": 25,
   "metadata": {},
   "outputs": [],
   "source": [
    "#1. Load data\n",
    "X = np.genfromtxt('P1_DATA/DATA/Digit_X_train.csv', delimiter=',') #https://docs.scipy.org/doc/numpy/reference/generated/numpy.genfromtxt.html\n",
    "y = np.genfromtxt('P1_DATA/DATA/Digit_y_train.csv', delimiter=',').astype(np.int64)\n",
    "# X[0:10]\n",
    "# np.shape(X)[0]\n",
    "# np.max(y) + 1"
   ]
  },
  {
   "cell_type": "code",
   "execution_count": 26,
   "metadata": {},
   "outputs": [
    {
     "data": {
      "image/png": "[encoded data removed]",
      "text/plain": [
       "<matplotlib.figure.Figure at 0x1a5e9306438>"
      ]
     },
     "metadata": {},
     "output_type": "display_data"
    }
   ],
   "source": [
    "#2. plot data\n",
    "plt.scatter(X[:,0], X[:,1], c=y, cmap=plt.cm.bwr) #http://matplotlib.org/api/pyplot_api.html#matplotlib.pyplot.scatter\n",
    "plt.show()"
   ]
  },
  {
   "cell_type": "code",
   "execution_count": 27,
   "metadata": {},
   "outputs": [],
   "source": [
    "#3. Initialize model\n",
    "input_dim = np.shape(X)[1]\n",
    "output_dim = np.max(y) + 1\n",
    "hidden_dim = 20\n",
    "logreg = LogisticRegression(input_dim, hidden_dim, output_dim)"
   ]
  },
  {
   "cell_type": "code",
   "execution_count": 28,
   "metadata": {},
   "outputs": [],
   "source": [
    "#4. Plot decision boundary\n",
    "# plot_decision_boundary(logreg, X, y)"
   ]
  },
  {
   "cell_type": "markdown",
   "metadata": {},
   "source": [
    "## Train Classification Model\n",
    "**Classification** tries to predict, which of a small set of classes, a sample in a population belongs to. Mathematically, the aim is to find $y$, a **label** based on knowing a feature vector $X$."
   ]
  },
  {
   "cell_type": "code",
   "execution_count": 29,
   "metadata": {},
   "outputs": [
    {
     "data": {
      "text/plain": [
       "0"
      ]
     },
     "execution_count": 29,
     "metadata": {},
     "output_type": "execute_result"
    }
   ],
   "source": [
    "#5. Train the model\n",
    "logreg.fit(X,y,1000,alpha=0.001)"
   ]
  },
  {
   "cell_type": "code",
   "execution_count": 30,
   "metadata": {},
   "outputs": [],
   "source": [
    "#6. Plot decision boundary after trainning\n",
    "# plot_decision_boundary(logreg, X, y)"
   ]
  },
  {
   "cell_type": "markdown",
   "metadata": {},
   "source": [
    "## Model Evaluation"
   ]
  },
  {
   "cell_type": "code",
   "execution_count": 31,
   "metadata": {},
   "outputs": [
    {
     "name": "stdout",
     "output_type": "stream",
     "text": [
      "ACCURACY:  1.0\n",
      "CONFUSION MATRIX: \n",
      " [[90.  0.  0.  0.  0.  0.  0.  0.  0.  0.]\n",
      " [ 0. 91.  0.  0.  0.  0.  0.  0.  0.  0.]\n",
      " [ 0.  0. 91.  0.  0.  0.  0.  0.  0.  0.]\n",
      " [ 0.  0.  0. 92.  0.  0.  0.  0.  0.  0.]\n",
      " [ 0.  0.  0.  0. 89.  0.  0.  0.  0.  0.]\n",
      " [ 0.  0.  0.  0.  0. 91.  0.  0.  0.  0.]\n",
      " [ 0.  0.  0.  0.  0.  0. 90.  0.  0.  0.]\n",
      " [ 0.  0.  0.  0.  0.  0.  0. 90.  0.  0.]\n",
      " [ 0.  0.  0.  0.  0.  0.  0.  0. 86.  0.]\n",
      " [ 0.  0.  0.  0.  0.  0.  0.  0.  0. 88.]]\n"
     ]
    }
   ],
   "source": [
    "#7. ompute accuracy and confusion matrix\n",
    "acc = 0\n",
    "y_pred = logreg.predict(X)\n",
    "con_mat = np.zeros((output_dim, output_dim))\n",
    "for i in range(len(y_pred)):\n",
    "    con_mat[y_pred[i], y[i]] += 1\n",
    "    if y[i] == y_pred[i]:\n",
    "        acc += 1\n",
    "acc = acc/len(y_pred)\n",
    "print ('ACCURACY: ', acc)\n",
    "print ('CONFUSION MATRIX: \\n', con_mat)"
   ]
  },
  {
   "cell_type": "code",
   "execution_count": 32,
   "metadata": {},
   "outputs": [
    {
     "name": "stdout",
     "output_type": "stream",
     "text": [
      "0.016690559917196188\n"
     ]
    }
   ],
   "source": [
    "#5. compute cost\n",
    "cost = logreg.compute_cost(X,y)\n",
    "print (cost)"
   ]
  },
  {
   "cell_type": "code",
   "execution_count": null,
   "metadata": {},
   "outputs": [],
   "source": []
  }
 ],
 "metadata": {
  "kernelspec": {
   "display_name": "Python 3",
   "language": "python",
   "name": "python3"
  },
  "language_info": {
   "codemirror_mode": {
    "name": "ipython",
    "version": 3
   },
   "file_extension": ".py",
   "mimetype": "text/x-python",
   "name": "python",
   "nbconvert_exporter": "python",
   "pygments_lexer": "ipython3",
   "version": "3.6.4"
  }
 },
 "nbformat": 4,
 "nbformat_minor": 2
}
